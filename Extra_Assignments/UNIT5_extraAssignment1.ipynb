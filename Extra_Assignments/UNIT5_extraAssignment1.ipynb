{
  "nbformat": 4,
  "nbformat_minor": 0,
  "metadata": {
    "colab": {
      "provenance": []
    },
    "kernelspec": {
      "name": "python3",
      "display_name": "Python 3"
    },
    "language_info": {
      "name": "python"
    }
  },
  "cells": [
    {
      "cell_type": "code",
      "execution_count": null,
      "metadata": {
        "id": "4msr_pO5zLW5"
      },
      "outputs": [],
      "source": [
        "# Install transformers\n",
        "!pip install transformers sentencepiece --quiet"
      ]
    },
    {
      "cell_type": "code",
      "source": [
        "from transformers import MarianMTModel, MarianTokenizer\n",
        "\n",
        "# Load model and tokenizer\n",
        "model_name = 'Helsinki-NLP/opus-mt-en-hi'\n",
        "tokenizer = MarianTokenizer.from_pretrained(model_name)\n",
        "model = MarianMTModel.from_pretrained(model_name)"
      ],
      "metadata": {
        "id": "iDQZtgdL01_o"
      },
      "execution_count": null,
      "outputs": []
    },
    {
      "cell_type": "code",
      "source": [
        "import torch\n",
        "# Translation function (dynamic, context-aware)\n",
        "def translate_en_to_hi(text):\n",
        "    # Tokenize input text\n",
        "    inputs = tokenizer(text, return_tensors=\"pt\", padding=True, truncation=True)\n",
        "\n",
        "    # Translate\n",
        "    with torch.no_grad():\n",
        "        translated = model.generate(**inputs, max_length=128, num_beams=4)\n",
        "\n",
        "    # Decode the output\n",
        "    hindi = tokenizer.decode(translated[0], skip_special_tokens=True)\n",
        "    return hindi\n",
        "\n",
        "# Interactive loop\n",
        "print(\" English to Hindi Translator (Type 'exit' to quit)\\n\")\n",
        "while True:\n",
        "    sentence = input(\"Enter an English sentence: \").strip().lower()\n",
        "    if sentence.lower() == \"exit\":\n",
        "        break\n",
        "    hindi = translate_en_to_hi(sentence)\n",
        "    print(\"Hindi:\", hindi, \"\\n\")"
      ],
      "metadata": {
        "colab": {
          "base_uri": "https://localhost:8080/"
        },
        "id": "m-36HUTj1MFW",
        "outputId": "850dcd7f-5bd6-4ead-858e-83a2548cd941"
      },
      "execution_count": null,
      "outputs": [
        {
          "name": "stdout",
          "output_type": "stream",
          "text": [
            " English to Hindi Translator (Type 'exit' to quit)\n",
            "\n",
            "Enter an English sentence: He is eating an apple\n",
            "Hindi: वह एक सेब खा रहा है \n",
            "\n",
            "Enter an English sentence: she goes to school everyday\n",
            "Hindi: वह हर दिन स्कूल जाती है \n",
            "\n",
            "Enter an English sentence: exit\n"
          ]
        }
      ]
    }
  ]
}