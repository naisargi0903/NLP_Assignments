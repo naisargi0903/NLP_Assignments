{
  "nbformat": 4,
  "nbformat_minor": 0,
  "metadata": {
    "colab": {
      "provenance": []
    },
    "kernelspec": {
      "name": "python3",
      "display_name": "Python 3"
    },
    "language_info": {
      "name": "python"
    }
  },
  "cells": [
    {
      "cell_type": "code",
      "source": [
        "!pip install nltk"
      ],
      "metadata": {
        "colab": {
          "base_uri": "https://localhost:8080/"
        },
        "id": "_mZHcMQfxLSP",
        "outputId": "17304ad6-d110-44fd-9b2f-6870cc131449"
      },
      "execution_count": 2,
      "outputs": [
        {
          "output_type": "stream",
          "name": "stdout",
          "text": [
            "Requirement already satisfied: nltk in /usr/local/lib/python3.11/dist-packages (3.9.1)\n",
            "Requirement already satisfied: click in /usr/local/lib/python3.11/dist-packages (from nltk) (8.1.8)\n",
            "Requirement already satisfied: joblib in /usr/local/lib/python3.11/dist-packages (from nltk) (1.4.2)\n",
            "Requirement already satisfied: regex>=2021.8.3 in /usr/local/lib/python3.11/dist-packages (from nltk) (2024.11.6)\n",
            "Requirement already satisfied: tqdm in /usr/local/lib/python3.11/dist-packages (from nltk) (4.67.1)\n"
          ]
        }
      ]
    },
    {
      "cell_type": "code",
      "execution_count": 4,
      "metadata": {
        "colab": {
          "base_uri": "https://localhost:8080/"
        },
        "id": "mLgaE-kys4wn",
        "outputId": "c63ea819-3356-4320-dd44-8768b0eab197"
      },
      "outputs": [
        {
          "output_type": "stream",
          "name": "stderr",
          "text": [
            "[nltk_data] Downloading package punkt to /root/nltk_data...\n",
            "[nltk_data]   Package punkt is already up-to-date!\n",
            "[nltk_data] Downloading package punkt_tab to /root/nltk_data...\n",
            "[nltk_data]   Unzipping tokenizers/punkt_tab.zip.\n"
          ]
        },
        {
          "output_type": "stream",
          "name": "stdout",
          "text": [
            "Enter a phrase (or 'quit' to exit): Python is\n",
            "Input: Python is\n",
            "Predicted next word: great\n",
            "Enter a phrase (or 'quit' to exit): I love \n",
            "Input: I love\n",
            "Predicted next word: programming\n",
            "Enter a phrase (or 'quit' to exit): I am\n",
            "Input: I am\n",
            "Predicted next word: No prediction available\n",
            "Enter a phrase (or 'quit' to exit): I enjoy\n",
            "Input: I enjoy\n",
            "Predicted next word: machine\n",
            "Enter a phrase (or 'quit' to exit): quit\n",
            "Exiting...\n"
          ]
        }
      ],
      "source": [
        "import nltk\n",
        "from nltk.util import ngrams\n",
        "from nltk import FreqDist\n",
        "from collections import defaultdict\n",
        "\n",
        "# Download necessary NLTK data\n",
        "nltk.download('punkt')\n",
        "nltk.download('punkt_tab')\n",
        "\n",
        "# Step 1: Preprocess text (tokenization and cleaning)\n",
        "def preprocess_text(text):\n",
        "    # Tokenize and convert to lowercase\n",
        "    tokens = nltk.word_tokenize(text.lower())\n",
        "    return tokens\n",
        "\n",
        "# Step 2: Generate N-grams (in this case, trigrams)\n",
        "def generate_ngrams(text, n=3):\n",
        "    tokens = preprocess_text(text)\n",
        "    n_grams = list(ngrams(tokens, n))\n",
        "    return n_grams\n",
        "\n",
        "# Step 3: Build a frequency distribution of N-grams\n",
        "def build_ngram_model(corpus, n=3):\n",
        "    ngram_model = defaultdict(FreqDist)\n",
        "    for text in corpus:\n",
        "        n_grams = generate_ngrams(text, n)\n",
        "        for ngram in n_grams:\n",
        "            prefix = ngram[:-1]\n",
        "            next_word = ngram[-1]\n",
        "            ngram_model[prefix][next_word] += 1\n",
        "    return ngram_model\n",
        "\n",
        "# Step 4: Predict the next word(s) based on the prefix input\n",
        "def predict_next_word(prefix, ngram_model, n=3):\n",
        "    prefix = tuple(preprocess_text(prefix)[-n+1:])  # Use the last n-1 words as the prefix\n",
        "    if prefix in ngram_model:\n",
        "        # Get the most probable next word\n",
        "        next_word = ngram_model[prefix].max()\n",
        "        return next_word\n",
        "    else:\n",
        "        return \"No prediction available\"\n",
        "\n",
        "# Example corpus for training the model\n",
        "corpus = [\n",
        "    \"I love programming in Python\",\n",
        "    \"Python is great for data science\",\n",
        "    \"I enjoy machine learning\",\n",
        "    \"Machine learning is a fascinating field\",\n",
        "    \"I love to learn new things\"\n",
        "]\n",
        "\n",
        "# Step 5: Train the N-gram model (trigram model in this case)\n",
        "ngram_model = build_ngram_model(corpus, n=3)\n",
        "\n",
        "# Step 6: Take user input for auto-completion\n",
        "while True:\n",
        "    input_text = input(\"Enter a phrase (or 'quit' to exit): \").strip()\n",
        "    if input_text.lower() == \"quit\":\n",
        "        print(\"Exiting...\")\n",
        "        break\n",
        "    print(f\"Input: {input_text}\")\n",
        "    prediction = predict_next_word(input_text, ngram_model, n=3)\n",
        "    print(f\"Predicted next word: {prediction}\")"
      ]
    }
  ]
}