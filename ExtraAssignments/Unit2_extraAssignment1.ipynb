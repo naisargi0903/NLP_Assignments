{
  "nbformat": 4,
  "nbformat_minor": 0,
  "metadata": {
    "colab": {
      "provenance": []
    },
    "kernelspec": {
      "name": "python3",
      "display_name": "Python 3"
    },
    "language_info": {
      "name": "python"
    }
  },
  "cells": [
    {
      "cell_type": "code",
      "execution_count": 1,
      "metadata": {
        "id": "wlrI1Ah3Zn8v"
      },
      "outputs": [],
      "source": [
        "# Define rules for suffix stripping (simple simulation of an FST)\n",
        "morph_rules = {\n",
        "    \"ing\": \"\",   # run + ing → run\n",
        "    \"ed\": \"\",    # walk + ed → walk\n",
        "    \"er\": \"\",    # happy + er → happy\n",
        "    \"est\": \"\",   # small + est → small\n",
        "    \"s\": \"\",     # cat + s → cat\n",
        "    \"es\": \"\",    # box + es → box\n",
        "    \"ly\": \"\",    # quick + ly → quick\n",
        "    \"ment\": \"\",  # develop + ment → develop\n",
        "    \"ness\": \"\",  # kind + ness → kind\n",
        "    \"ful\": \"\",   # hope + ful → hope\n",
        "    \"able\": \"\",  # read + able → read\n",
        "}"
      ]
    },
    {
      "cell_type": "code",
      "source": [
        "def morphological_parser(word):\n",
        "    for suffix in sorted(morph_rules.keys(), key=len, reverse=True):\n",
        "        if word.endswith(suffix) and len(word) > len(suffix) + 1:\n",
        "            root = word[: -len(suffix)] + morph_rules[suffix]\n",
        "            return root, suffix\n",
        "    return word, None"
      ],
      "metadata": {
        "id": "XmcW-Xp5ae0-"
      },
      "execution_count": 2,
      "outputs": []
    },
    {
      "cell_type": "code",
      "source": [
        "# Sample word list\n",
        "words = [\"running\", \"happier\", \"cats\", \"walked\", \"strongest\", \"hopeful\", \"kindness\", \"readable\", \"quickly\", \"development\"]\n",
        "\n",
        "# Analyze\n",
        "print(f\"{'Word':<15}{'Root':<10}{'Suffix'}\")\n",
        "print(\"-\" * 35)\n",
        "for word in words:\n",
        "    root, suffix = morphological_parser(word)\n",
        "    print(f\"{word:<15}{root:<10}{suffix if suffix else '-'}\")"
      ],
      "metadata": {
        "colab": {
          "base_uri": "https://localhost:8080/"
        },
        "id": "fjdxt1Xcaim1",
        "outputId": "1de30bf1-d96e-4654-afe2-450e2a5c7735"
      },
      "execution_count": 3,
      "outputs": [
        {
          "output_type": "stream",
          "name": "stdout",
          "text": [
            "Word           Root      Suffix\n",
            "-----------------------------------\n",
            "running        runn      ing\n",
            "happier        happi     er\n",
            "cats           cat       s\n",
            "walked         walk      ed\n",
            "strongest      strong    est\n",
            "hopeful        hope      ful\n",
            "kindness       kind      ness\n",
            "readable       read      able\n",
            "quickly        quick     ly\n",
            "development    develop   ment\n"
          ]
        }
      ]
    }
  ]
}