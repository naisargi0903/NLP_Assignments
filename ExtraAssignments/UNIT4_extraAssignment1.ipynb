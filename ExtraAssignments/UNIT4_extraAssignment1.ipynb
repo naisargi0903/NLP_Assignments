{
  "nbformat": 4,
  "nbformat_minor": 0,
  "metadata": {
    "colab": {
      "provenance": []
    },
    "kernelspec": {
      "name": "python3",
      "display_name": "Python 3"
    },
    "language_info": {
      "name": "python"
    }
  },
  "cells": [
    {
      "cell_type": "code",
      "execution_count": 1,
      "metadata": {
        "colab": {
          "base_uri": "https://localhost:8080/"
        },
        "id": "dWexpgZe4c7p",
        "outputId": "4f666423-fc4c-48ff-e993-a6f1f335eb0e"
      },
      "outputs": [
        {
          "output_type": "stream",
          "name": "stdout",
          "text": [
            "Requirement already satisfied: scikit-learn in /usr/local/lib/python3.11/dist-packages (1.6.1)\n",
            "Requirement already satisfied: numpy>=1.19.5 in /usr/local/lib/python3.11/dist-packages (from scikit-learn) (2.0.2)\n",
            "Requirement already satisfied: scipy>=1.6.0 in /usr/local/lib/python3.11/dist-packages (from scikit-learn) (1.14.1)\n",
            "Requirement already satisfied: joblib>=1.2.0 in /usr/local/lib/python3.11/dist-packages (from scikit-learn) (1.4.2)\n",
            "Requirement already satisfied: threadpoolctl>=3.1.0 in /usr/local/lib/python3.11/dist-packages (from scikit-learn) (3.6.0)\n"
          ]
        }
      ],
      "source": [
        "!pip install scikit-learn"
      ]
    },
    {
      "cell_type": "code",
      "source": [
        "from sklearn.feature_extraction.text import TfidfVectorizer\n",
        "from sklearn.metrics.pairwise import cosine_similarity\n",
        "import numpy as np\n",
        "\n",
        "# Sample dataset of documents\n",
        "documents = [\n",
        "    \"Information retrieval is the process of obtaining information system resources.\",\n",
        "    \"Natural language processing enables computers to understand human language.\",\n",
        "    \"TF-IDF stands for Term Frequency-Inverse Document Frequency.\",\n",
        "    \"Search engines use various algorithms to retrieve relevant documents.\",\n",
        "    \"Cosine similarity is used to find similarity between text vectors.\"\n",
        "]\n",
        "\n",
        "# Initialize the TfidfVectorizer\n",
        "vectorizer = TfidfVectorizer()\n",
        "\n",
        "# Transform documents into TF-IDF vectors\n",
        "tfidf_matrix = vectorizer.fit_transform(documents)\n",
        "\n",
        "# Function to process query and retrieve top documents\n",
        "def search_engine(query, top_n=3):\n",
        "    query_vec = vectorizer.transform([query])\n",
        "    similarity_scores = cosine_similarity(query_vec, tfidf_matrix).flatten()\n",
        "    top_indices = similarity_scores.argsort()[::-1][:top_n]\n",
        "\n",
        "    print(f\"\\nTop {top_n} results for query: \\\"{query}\\\"\")\n",
        "    for i in top_indices:\n",
        "        print(f\"\\nDocument {i+1}:\")\n",
        "        print(f\"Score: {similarity_scores[i]:.4f}\")\n",
        "        print(f\"Text: {documents[i]}\")\n",
        "\n",
        "# Loop to take user input\n",
        "if __name__ == \"__main__\":\n",
        "    while True:\n",
        "        user_query = input(\"\\nEnter your query (or type 'exit' to quit): \")\n",
        "        if user_query.lower() == 'exit':\n",
        "            print(\"Exiting the search engine. Goodbye!\")\n",
        "            break\n",
        "        search_engine(user_query)"
      ],
      "metadata": {
        "colab": {
          "base_uri": "https://localhost:8080/"
        },
        "id": "0ulnJVC670_a",
        "outputId": "a72d288b-adaa-4c35-a751-32091de0857a"
      },
      "execution_count": 2,
      "outputs": [
        {
          "output_type": "stream",
          "name": "stdout",
          "text": [
            "\n",
            "Enter your query (or type 'exit' to quit): similarity\n",
            "\n",
            "Top 3 results for query: \"similarity\"\n",
            "\n",
            "Document 5:\n",
            "Score: 0.6003\n",
            "Text: Cosine similarity is used to find similarity between text vectors.\n",
            "\n",
            "Document 4:\n",
            "Score: 0.0000\n",
            "Text: Search engines use various algorithms to retrieve relevant documents.\n",
            "\n",
            "Document 3:\n",
            "Score: 0.0000\n",
            "Text: TF-IDF stands for Term Frequency-Inverse Document Frequency.\n",
            "\n",
            "Enter your query (or type 'exit' to quit): retrieval\n",
            "\n",
            "Top 3 results for query: \"retrieval\"\n",
            "\n",
            "Document 1:\n",
            "Score: 0.2930\n",
            "Text: Information retrieval is the process of obtaining information system resources.\n",
            "\n",
            "Document 5:\n",
            "Score: 0.0000\n",
            "Text: Cosine similarity is used to find similarity between text vectors.\n",
            "\n",
            "Document 4:\n",
            "Score: 0.0000\n",
            "Text: Search engines use various algorithms to retrieve relevant documents.\n",
            "\n",
            "Enter your query (or type 'exit' to quit): exit\n",
            "Exiting the search engine. Goodbye!\n"
          ]
        }
      ]
    },
    {
      "cell_type": "code",
      "source": [],
      "metadata": {
        "id": "5IifN3At8VqL"
      },
      "execution_count": null,
      "outputs": []
    }
  ]
}