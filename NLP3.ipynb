{
  "nbformat": 4,
  "nbformat_minor": 0,
  "metadata": {
    "colab": {
      "provenance": []
    },
    "kernelspec": {
      "name": "python3",
      "display_name": "Python 3"
    },
    "language_info": {
      "name": "python"
    }
  },
  "cells": [
    {
      "cell_type": "markdown",
      "source": [
        "*Perform text cleaning, perform lemmatization (any method), remove stop words (any method), label encoding. Create representations using TF-IDF. Save outputs*\n",
        "\n",
        "**Clean the text:** Lowercase, remove punctuation/numbers, and extra spaces.\n",
        "\n",
        "**Remove stop words and perform lemmatization**: **bold text** Using NLTK’s stopwords list and WordNetLemmatizer.\n",
        "\n",
        "**Label encode:** Convert textual labels into numeric codes using scikit-learn’s LabelEncoder.\n",
        "\n",
        "**Create a TF-IDF representation:** Using TfidfVectorizer.\n",
        "\n",
        "**Save outputs:** Cleaned data and label encoding to cleaned_data.csv, TF-IDF matrix to tfidf_representation.csv, and label mapping to label_mapping.json."
      ],
      "metadata": {
        "id": "rAo6G0-aiGpV"
      }
    },
    {
      "cell_type": "code",
      "execution_count": 5,
      "metadata": {
        "colab": {
          "base_uri": "https://localhost:8080/"
        },
        "id": "f5b63MNUdjCc",
        "outputId": "9ac92248-1dbd-4a2d-d66e-a5849b69b553"
      },
      "outputs": [
        {
          "output_type": "stream",
          "name": "stderr",
          "text": [
            "[nltk_data] Downloading package punkt to /root/nltk_data...\n",
            "[nltk_data]   Package punkt is already up-to-date!\n",
            "[nltk_data] Downloading package stopwords to /root/nltk_data...\n",
            "[nltk_data]   Package stopwords is already up-to-date!\n",
            "[nltk_data] Downloading package wordnet to /root/nltk_data...\n",
            "[nltk_data]   Package wordnet is already up-to-date!\n",
            "[nltk_data] Downloading package omw-1.4 to /root/nltk_data...\n",
            "[nltk_data]   Package omw-1.4 is already up-to-date!\n",
            "[nltk_data] Downloading package punkt_tab to /root/nltk_data...\n",
            "[nltk_data]   Package punkt_tab is already up-to-date!\n"
          ]
        },
        {
          "output_type": "stream",
          "name": "stdout",
          "text": [
            "Enter your documents along with their labels. When finished, leave the document input empty and press Enter.\n",
            "Enter document text (or leave empty to finish): I absolutely love the new design of the website. Everything is so clear and intuitive\n",
            "Enter label for this document: Positive\n",
            "Enter document text (or leave empty to finish): The food at the restaurant was bland and overpriced. Not worth the visit.\n",
            "Enter label for this document: Negative\n",
            "Enter document text (or leave empty to finish): Reading a good book on a rainy day is a perfect escape from reality.\n",
            "Enter label for this document: Positive\n",
            "Enter document text (or leave empty to finish): \n",
            "Cleaned data saved as 'cleaned_data.csv'.\n",
            "TF-IDF representation saved as 'tfidf_representation.csv'.\n",
            "Label mapping saved as 'label_mapping.json'.\n"
          ]
        }
      ],
      "source": [
        "import re\n",
        "import json\n",
        "import nltk\n",
        "import pandas as pd\n",
        "from nltk.corpus import stopwords\n",
        "from nltk.stem import WordNetLemmatizer\n",
        "from sklearn.preprocessing import LabelEncoder\n",
        "from sklearn.feature_extraction.text import TfidfVectorizer\n",
        "\n",
        "# Download required NLTK data packages\n",
        "nltk.download('punkt')\n",
        "nltk.download('stopwords')\n",
        "nltk.download('wordnet')\n",
        "nltk.download('omw-1.4')\n",
        "nltk.download('punkt_tab')\n",
        "\n",
        "\n",
        "# Take User Input for Documents and Labels\n",
        "\n",
        "documents = []\n",
        "labels = []\n",
        "print(\"Enter your documents along with their labels. When finished, leave the document input empty and press Enter.\")\n",
        "\n",
        "while True:\n",
        "    doc = input(\"Enter document text (or leave empty to finish): \").strip()\n",
        "    if doc == \"\":\n",
        "        break\n",
        "    label = input(\"Enter label for this document: \").strip()\n",
        "    documents.append(doc)\n",
        "    labels.append(label)\n",
        "\n",
        "if not documents:\n",
        "    print(\"No documents provided. Exiting...\")\n",
        "    exit()\n",
        "\n",
        "# Create a DataFrame with the provided documents and labels\n",
        "df = pd.DataFrame({\"text\": documents, \"label\": labels})\n",
        "\n",
        "# Text Cleaning\n",
        "\n",
        "def clean_text(text):\n",
        "    # Convert to lowercase\n",
        "    text = text.lower()\n",
        "    # Remove punctuation and numbers (retain only alphabets and whitespace)\n",
        "    text = re.sub(r'[^a-z\\s]', '', text)\n",
        "    # Remove extra whitespace\n",
        "    text = re.sub(r'\\s+', ' ', text).strip()\n",
        "    return text\n",
        "\n",
        "df['clean_text'] = df['text'].apply(clean_text)\n",
        "\n",
        "# Remove Stop Words & Lemmatization\n",
        "\n",
        "stop_words = set(stopwords.words('english'))\n",
        "lemmatizer = WordNetLemmatizer()\n",
        "\n",
        "def remove_stopwords_and_lemmatize(text):\n",
        "    # Tokenize the text\n",
        "    tokens = nltk.word_tokenize(text)\n",
        "    # Remove stop words\n",
        "    tokens = [token for token in tokens if token not in stop_words]\n",
        "    # Lemmatize tokens\n",
        "    lemmatized_tokens = [lemmatizer.lemmatize(token) for token in tokens]\n",
        "    return ' '.join(lemmatized_tokens)\n",
        "\n",
        "df['final_text'] = df['clean_text'].apply(remove_stopwords_and_lemmatize)\n",
        "\n",
        "# Label Encoding\n",
        "\n",
        "label_encoder = LabelEncoder()\n",
        "df['label_encoded'] = label_encoder.fit_transform(df['label'])\n",
        "\n",
        "# Create TF-IDF Representation\n",
        "\n",
        "tfidf_vectorizer = TfidfVectorizer()\n",
        "tfidf_matrix = tfidf_vectorizer.fit_transform(df['final_text'])\n",
        "tfidf_df = pd.DataFrame(tfidf_matrix.toarray(), columns=tfidf_vectorizer.get_feature_names_out())\n",
        "\n",
        "# Save Outputs\n",
        "\n",
        "# Save cleaned data with original, cleaned, final text, and label encoding\n",
        "df.to_csv(\"cleaned_data.csv\", index=False)\n",
        "print(\"Cleaned data saved as 'cleaned_data.csv'.\")\n",
        "\n",
        "# Save the TF-IDF representation to CSV\n",
        "tfidf_df.to_csv(\"tfidf_representation.csv\", index=False)\n",
        "print(\"TF-IDF representation saved as 'tfidf_representation.csv'.\")\n",
        "\n",
        "# Save the label mapping (label to encoded value) to JSON\n",
        "label_mapping = {str(k): int(v) for k, v in zip(label_encoder.classes_, label_encoder.transform(label_encoder.classes_))}\n",
        "with open(\"label_mapping.json\", \"w\") as f:\n",
        "    json.dump(label_mapping, f, indent=4)\n",
        "print(\"Label mapping saved as 'label_mapping.json'.\")\n"
      ]
    }
  ]
}